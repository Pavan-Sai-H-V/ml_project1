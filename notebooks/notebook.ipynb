{
 "cells": [
  {
   "cell_type": "markdown",
   "id": "231d239c",
   "metadata": {},
   "source": [
    "## Project Abstract\n",
    "This project demonstrates the integration of the Llama 3.1 language model for document-based question answering and personal health coaching. Using a custom `Modelfile`, the model is configured to act as a health trainer named David. The notebook workflow includes:\n",
    "- Loading documents (such as `hdfs.pdf`) for context.\n",
    "- Setting up the Llama 3.1 model and embedding model for semantic search.\n",
    "- Creating a vector index from the documents for efficient querying.\n",
    "- Defining a system prompt and input template for accurate Q&A.\n",
    "- Running queries against the indexed documents and retrieving model-generated answers.\n",
    "\n",
    "This approach enables both general Q&A and domain-specific assistance, leveraging the capabilities of Llama 3.1 and custom persona settings for practical applications in health and data science."
   ]
  },
  {
   "cell_type": "code",
   "execution_count": 18,
   "id": "11e7cef3",
   "metadata": {},
   "outputs": [],
   "source": [
    "\n",
    "from llama_index.core import VectorStoreIndex, SimpleDirectoryReader, ServiceContext\n",
    "from llama_index.llms.ollama import Ollama\n",
    "from llama_index.core import PromptTemplate\n",
    "from llama_index.embeddings.huggingface import HuggingFaceEmbedding"
   ]
  },
  {
   "cell_type": "code",
   "execution_count": null,
   "id": "69314650",
   "metadata": {},
   "outputs": [
    {
     "name": "stderr",
     "output_type": "stream",
     "text": [
      "2025-10-01 17:26:35,286 - WARNING - parsing for Object Streams\n"
     ]
    }
   ],
   "source": [
    "\n",
    "documents = SimpleDirectoryReader(\"./documents\").load_data()"
   ]
  },
  {
   "cell_type": "code",
   "execution_count": 17,
   "id": "8c2d85bb",
   "metadata": {},
   "outputs": [],
   "source": [
    "llm=Ollama(model='llama3.1',request_timeout=120.0)"
   ]
  },
  {
   "cell_type": "code",
   "execution_count": 20,
   "id": "fa0a50a0",
   "metadata": {},
   "outputs": [
    {
     "name": "stdout",
     "output_type": "stream",
     "text": [
      "loaded 10 documents\n"
     ]
    }
   ],
   "source": [
    "print(f\"loaded {len(documents)} documents\")"
   ]
  },
  {
   "cell_type": "code",
   "execution_count": 21,
   "id": "541b3f3f",
   "metadata": {},
   "outputs": [],
   "source": [
    "\n",
    "system_prompt=\"\"\"\n",
    "You are a Q&A assistant. Your goal is to answer questions as accuratley as possible based on the instructions and context provided\n",
    "\"\"\"\n",
    "##deafult format supported by llama 3.1\n",
    "llama3_1_template_str = (\n",
    "    \"<|begin_of_text|>\"\n",
    "    \"<|start_header_id|>system<|end_header_id|>\\n\\n\"\n",
    "    \"{system_prompt}<|eot_id|>\"\n",
    "    \"<|start_header_id|>user<|end_header_id|>\\n\\n\"\n",
    "    \"{query_str}<|eot_id|>\"\n",
    "    \"<|start_header_id|>assistant<|end_header_id|>\\n\\n\"\n",
    ")\n",
    "query_wrapper_prompt=PromptTemplate(llama3_1_template_str)"
   ]
  },
  {
   "cell_type": "code",
   "execution_count": 22,
   "id": "13fb905e",
   "metadata": {},
   "outputs": [
    {
     "name": "stderr",
     "output_type": "stream",
     "text": [
      "2025-10-01 17:51:02,957 - INFO - Load pretrained SentenceTransformer: BAAI/bge-small-en-v1.5\n",
      "2025-10-01 17:51:32,623 - INFO - 1 prompt is loaded, with the key: query\n"
     ]
    }
   ],
   "source": [
    "from llama_index.embeddings.huggingface import HuggingFaceEmbedding\n",
    "from llama_index.core import Settings\n",
    "embed_model=HuggingFaceEmbedding(model_name='BAAI/bge-small-en-v1.5')\n",
    "\n",
    "Settings.llm = llm\n",
    "Settings.embed_model = embed_model"
   ]
  },
  {
   "cell_type": "code",
   "execution_count": 23,
   "id": "385db3f0",
   "metadata": {},
   "outputs": [
    {
     "name": "stdout",
     "output_type": "stream",
     "text": [
      "creating index\n",
      "Index created Succesfully\n"
     ]
    }
   ],
   "source": [
    "print('creating index')\n",
    "index=VectorStoreIndex.from_documents(documents)\n",
    "print('Index created Succesfully')"
   ]
  },
  {
   "cell_type": "code",
   "execution_count": 27,
   "id": "cde3ee21",
   "metadata": {},
   "outputs": [
    {
     "name": "stderr",
     "output_type": "stream",
     "text": [
      "2025-10-01 17:53:52,372 - INFO - HTTP Request: POST http://localhost:11434/api/show \"HTTP/1.1 200 OK\"\n"
     ]
    }
   ],
   "source": [
    "query_engine=index.as_query_engine()"
   ]
  },
  {
   "cell_type": "code",
   "execution_count": 29,
   "id": "972d4b00",
   "metadata": {},
   "outputs": [
    {
     "name": "stdout",
     "output_type": "stream",
     "text": [
      "Querying the index\n"
     ]
    },
    {
     "name": "stderr",
     "output_type": "stream",
     "text": [
      "2025-10-01 20:18:27,174 - INFO - HTTP Request: POST http://localhost:11434/api/chat \"HTTP/1.1 200 OK\"\n"
     ]
    },
    {
     "name": "stdout",
     "output_type": "stream",
     "text": [
      "This is the models reply\n",
      "When a client wants to read from a file, it first contacts the NameNode for the locations of data blocks comprising the file. The client then reads block contents from the DataNode closest to the client.\n"
     ]
    }
   ],
   "source": [
    "print('Querying the index')\n",
    "\n",
    "response= query_engine.query(\"How does HDFS exposes the locations of a file blocks\")\n",
    "\n",
    "print('This is the models reply')\n",
    "\n",
    "print(response)"
   ]
  },
  {
   "cell_type": "code",
   "execution_count": null,
   "id": "eb43a9e7",
   "metadata": {},
   "outputs": [],
   "source": []
  }
 ],
 "metadata": {
  "kernelspec": {
   "display_name": "mlprojects (3.12.11)",
   "language": "python",
   "name": "python3"
  },
  "language_info": {
   "codemirror_mode": {
    "name": "ipython",
    "version": 3
   },
   "file_extension": ".py",
   "mimetype": "text/x-python",
   "name": "python",
   "nbconvert_exporter": "python",
   "pygments_lexer": "ipython3",
   "version": "3.12.11"
  }
 },
 "nbformat": 4,
 "nbformat_minor": 5
}
